{
 "cells": [
  {
   "cell_type": "code",
   "execution_count": 7,
   "id": "862bd6be",
   "metadata": {},
   "outputs": [
    {
     "name": "stdout",
     "output_type": "stream",
     "text": [
      "Integer number: 10\n",
      "Float number: 10.0\n"
     ]
    }
   ],
   "source": [
    "#1 \n",
    "integer_number = 10 \n",
    "float_number  = float(integer_number)\n",
    "\n",
    "print(\"Integer number:\", integer_number)\n",
    "print(\"Float number:\", float_number)"
   ]
  },
  {
   "cell_type": "code",
   "execution_count": 6,
   "id": "67cdbf27",
   "metadata": {},
   "outputs": [
    {
     "name": "stdout",
     "output_type": "stream",
     "text": [
      "Float number: 10.5\n",
      "Integer number: 10\n"
     ]
    }
   ],
   "source": [
    "#2\n",
    "float_number = 10.5\n",
    "integer_number = int(float_number)\n",
    "\n",
    "print(\"Float number:\", float_number)\n",
    "print(\"Integer number:\", integer_number)\n"
   ]
  },
  {
   "cell_type": "code",
   "execution_count": 8,
   "id": "714716bd",
   "metadata": {},
   "outputs": [
    {
     "name": "stdout",
     "output_type": "stream",
     "text": [
      "Integer number: 10\n",
      "String number: 10\n"
     ]
    }
   ],
   "source": [
    "#3\n",
    "integer_number = 10\n",
    "string_number = str(integer_number)\n",
    "\n",
    "print(\"Integer number:\", integer_number)\n",
    "print(\"String number:\", string_number)\n"
   ]
  },
  {
   "cell_type": "code",
   "execution_count": 9,
   "id": "a4e9069b",
   "metadata": {},
   "outputs": [
    {
     "name": "stdout",
     "output_type": "stream",
     "text": [
      "List: [1, 2, 3, 4, 5]\n",
      "Tuple: (1, 2, 3, 4, 5)\n"
     ]
    }
   ],
   "source": [
    "#4\n",
    "my_list = [1, 2, 3, 4, 5]\n",
    "my_tuple = tuple(my_list)\n",
    "\n",
    "print(\"List:\", my_list)\n",
    "print(\"Tuple:\", my_tuple)\n"
   ]
  },
  {
   "cell_type": "code",
   "execution_count": 10,
   "id": "a3dfdcb9",
   "metadata": {},
   "outputs": [
    {
     "name": "stdout",
     "output_type": "stream",
     "text": [
      "Tuple: (1, 2, 3, 4, 5)\n",
      "List: [1, 2, 3, 4, 5]\n"
     ]
    }
   ],
   "source": [
    "#5\n",
    "my_tuple = (1, 2, 3, 4, 5)\n",
    "my_list = list(my_tuple)\n",
    "\n",
    "print(\"Tuple:\", my_tuple)\n",
    "print(\"List:\", my_list)\n"
   ]
  },
  {
   "cell_type": "code",
   "execution_count": 11,
   "id": "2b1ac9be",
   "metadata": {},
   "outputs": [
    {
     "name": "stdout",
     "output_type": "stream",
     "text": [
      "Decimal number: 10\n",
      "Binary number: 0b1010\n"
     ]
    }
   ],
   "source": [
    "#6\n",
    "decimal_number = 10\n",
    "binary_number = bin(decimal_number)\n",
    "\n",
    "print(\"Decimal number:\", decimal_number)\n",
    "print(\"Binary number:\", binary_number)\n"
   ]
  },
  {
   "cell_type": "code",
   "execution_count": 12,
   "id": "835d47fe",
   "metadata": {},
   "outputs": [
    {
     "name": "stdout",
     "output_type": "stream",
     "text": [
      "Non-zero number: 10\n",
      "Boolean value: True\n"
     ]
    }
   ],
   "source": [
    "#7\n",
    "non_zero_number = 10\n",
    "boolean_value = bool(non_zero_number)\n",
    "\n",
    "print(\"Non-zero number:\", non_zero_number)\n",
    "print(\"Boolean value:\", boolean_value)\n"
   ]
  },
  {
   "cell_type": "code",
   "execution_count": null,
   "id": "1ad2dc57",
   "metadata": {},
   "outputs": [],
   "source": []
  }
 ],
 "metadata": {
  "kernelspec": {
   "display_name": "Python 3 (ipykernel)",
   "language": "python",
   "name": "python3"
  },
  "language_info": {
   "codemirror_mode": {
    "name": "ipython",
    "version": 3
   },
   "file_extension": ".py",
   "mimetype": "text/x-python",
   "name": "python",
   "nbconvert_exporter": "python",
   "pygments_lexer": "ipython3",
   "version": "3.11.5"
  }
 },
 "nbformat": 4,
 "nbformat_minor": 5
}
